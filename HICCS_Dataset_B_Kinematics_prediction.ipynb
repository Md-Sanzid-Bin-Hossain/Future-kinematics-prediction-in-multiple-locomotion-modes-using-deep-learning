{
  "cells": [
    {
      "cell_type": "markdown",
      "metadata": {
        "id": "view-in-github",
        "colab_type": "text"
      },
      "source": [
        "<a href=\"https://colab.research.google.com/github/Md-Sanzid-Bin-Hossain/Future-kinematics-prediction-in-multiple-locomotion-modes-using-deep-learning/blob/main/HICCS_Dataset_B_Kinematics_prediction.ipynb\" target=\"_parent\"><img src=\"https://colab.research.google.com/assets/colab-badge.svg\" alt=\"Open In Colab\"/></a>"
      ]
    },
    {
      "cell_type": "code",
      "execution_count": null,
      "metadata": {
        "id": "zJgSNrI2pTfC",
        "colab": {
          "base_uri": "https://localhost:8080/"
        },
        "outputId": "25a50954-f85d-4c1a-ba1c-6ebc2457a73e"
      },
      "outputs": [
        {
          "output_type": "stream",
          "name": "stdout",
          "text": [
            "Mounted at /content/drive\n"
          ]
        }
      ],
      "source": [
        "# !pip install torchviz\n",
        "# !pip install tsf\n",
        "\n",
        "\n",
        "import h5py\n",
        "import json\n",
        "import matplotlib.pyplot as plt\n",
        "import numpy as np\n",
        "import numpy\n",
        "import statistics\n",
        "from numpy import loadtxt\n",
        "import matplotlib.pyplot as plt\n",
        "import pandas\n",
        "import math\n",
        "from sklearn.preprocessing import MinMaxScaler\n",
        "from sklearn.metrics import mean_squared_error\n",
        "from statistics import stdev\n",
        "import math\n",
        "import h5py\n",
        "\n",
        "import numpy as np\n",
        "import time\n",
        "\n",
        "from scipy.signal import butter,filtfilt\n",
        "import sys\n",
        "import numpy as np # linear algebra\n",
        "from scipy.stats import randint\n",
        "import pandas as pd # data processing, CSV file I/O (e.g. pd.read_csv), data manipulation as in SQL\n",
        "import matplotlib.pyplot as plt # this is used for the plot the graph\n",
        "import seaborn as sns # used for plot interactive graph.\n",
        "import pandas\n",
        "import matplotlib.pyplot as plt\n",
        "\n",
        "# from tsf.model import TransformerForecaster\n",
        "\n",
        "\n",
        "# from tensorflow.keras.utils import np_utils\n",
        "import itertools\n",
        "###  Library for attention layers\n",
        "import pandas as pd\n",
        "import os\n",
        "import numpy as np\n",
        "#from tqdm import tqdm # Processing time measurement\n",
        "from sklearn.model_selection import train_test_split\n",
        "\n",
        "import statistics\n",
        "import gc\n",
        "import torch.nn.init as init\n",
        "\n",
        "############################################################################################################################################################################\n",
        "############################################################################################################################################################################\n",
        "\n",
        "import os\n",
        "import time\n",
        "\n",
        "import numpy as np\n",
        "import pandas as pd\n",
        "import matplotlib.pyplot as plt\n",
        "import torch.nn.utils.weight_norm as weight_norm\n",
        "\n",
        "\n",
        "import torch\n",
        "import torch.nn as nn\n",
        "from torch.utils.data import TensorDataset, DataLoader\n",
        "import torch.nn.functional as F\n",
        "from torchsummary import summary\n",
        "from torch.nn.parameter import Parameter\n",
        "\n",
        "\n",
        "import torch.optim as optim\n",
        "\n",
        "\n",
        "from tqdm import tqdm_notebook\n",
        "from sklearn.preprocessing import MinMaxScaler\n",
        "\n",
        "\n",
        "from google.colab import drive\n",
        "drive.mount('/content/drive',force_remount=True)"
      ]
    },
    {
      "cell_type": "markdown",
      "source": [
        "# Data Preparation"
      ],
      "metadata": {
        "id": "fOomrB0IHMu0"
      }
    },
    {
      "cell_type": "code",
      "source": [
        "# path='/content/drive/My Drive/Dataset_B_Kinematics/'\n",
        "\n",
        "# with h5py.File(path+'All_subjects_data_kinematics_datasetB.h5', 'w') as hf:\n",
        "\n",
        "#     # Create a new group for the columns.\n",
        "#   All_subject_data = hf.create_group('All_subjects')\n",
        "\n",
        "#   ID=['id01', 'id02','id03','id04','id05','id07','id08','id10','id12','id13','id14','id15','id16','id17','id18','id19','id22','id23','id24','id25']\n",
        "\n",
        "# ########################################################################################################################################\n",
        "#   for Id in ID:\n",
        "\n",
        "#     id=Id\n",
        "\n",
        "#     courseA=loadtxt(path+id+'_courseA.csv', delimiter=',')\n",
        "#     courseB=loadtxt(path+id+'_courseB.csv', delimiter=',')\n",
        "#     courseC=loadtxt(path+id+'_courseC.csv', delimiter=',')\n",
        "\n",
        "#     Subject_data = All_subject_data.create_group(id)\n",
        "\n",
        "#     # Add the columns to the group.\n",
        "#     Subject_data.create_dataset('courseA', data=courseA)\n",
        "#     Subject_data.create_dataset('courseB', data=courseB)\n",
        "#     Subject_data.create_dataset('courseC', data=courseC)\n",
        "\n",
        "\n",
        "#   hf.close()\n",
        "\n"
      ],
      "metadata": {
        "id": "JDmQUeN2HOoT"
      },
      "execution_count": null,
      "outputs": []
    },
    {
      "cell_type": "markdown",
      "metadata": {
        "id": "W17jUoA2pwjm"
      },
      "source": [
        "# Data Loader"
      ]
    },
    {
      "cell_type": "code",
      "execution_count": null,
      "metadata": {
        "id": "k1qJ-_XVjY3z"
      },
      "outputs": [],
      "source": [
        "path='/content/drive/My Drive/Dataset_B_Kinematics/'\n",
        "\n",
        "def data_loader(id):\n",
        "  with h5py.File(path+'All_subjects_data_kinematics_datasetB.h5', 'r') as hf:\n",
        "    All_subjects = hf['All_subjects']\n",
        "    id = All_subjects[id]\n",
        "\n",
        "    courseA=id['courseA']\n",
        "    courseB=id['courseB']\n",
        "    courseC=id['courseC']\n",
        "\n",
        "    total_data=np.concatenate((courseA,courseB,courseC),axis=0)\n",
        "\n",
        "    return np.array(total_data)\n"
      ]
    },
    {
      "cell_type": "code",
      "source": [
        "id01_data=data_loader('id01')\n",
        "gc.collect()\n",
        "id02_data=data_loader('id02')\n",
        "gc.collect()\n",
        "id03_data=data_loader('id03')\n",
        "gc.collect()\n",
        "id04_data=data_loader('id04')\n",
        "gc.collect()\n",
        "id05_data=data_loader('id05')\n",
        "gc.collect()\n",
        "id07_data=data_loader('id07')\n",
        "gc.collect()\n",
        "id08_data=data_loader('id08')\n",
        "gc.collect()\n",
        "id10_data=data_loader('id10')\n",
        "gc.collect()\n",
        "id12_data=data_loader('id12')\n",
        "gc.collect()\n",
        "id13_data=data_loader('id13')\n",
        "gc.collect()\n",
        "id14_data=data_loader('id14')\n",
        "gc.collect()\n",
        "id15_data=data_loader('id15')\n",
        "gc.collect()\n",
        "id16_data=data_loader('id16')\n",
        "gc.collect()\n",
        "id17_data=data_loader('id17')\n",
        "gc.collect()\n",
        "id18_data=data_loader('id18')\n",
        "gc.collect()\n",
        "id19_data=data_loader('id19')\n",
        "gc.collect()\n",
        "id22_data=data_loader('id22')\n",
        "gc.collect()\n",
        "id23_data=data_loader('id23')\n",
        "gc.collect()\n",
        "id24_data=data_loader('id24')\n",
        "gc.collect()\n",
        "id25_data=data_loader('id25')\n",
        "gc.collect()"
      ],
      "metadata": {
        "id": "F2v6isieS7yr",
        "colab": {
          "base_uri": "https://localhost:8080/"
        },
        "outputId": "98149d94-7630-420b-f895-0bfba93b9a1a"
      },
      "execution_count": null,
      "outputs": [
        {
          "output_type": "execute_result",
          "data": {
            "text/plain": [
              "0"
            ]
          },
          "metadata": {},
          "execution_count": 5
        }
      ]
    },
    {
      "cell_type": "code",
      "source": [
        "print(id01_data.shape)"
      ],
      "metadata": {
        "id": "hwTxpgIES_xG",
        "colab": {
          "base_uri": "https://localhost:8080/"
        },
        "outputId": "17b5a0d2-ddb4-4570-882e-d37740fcb6f8"
      },
      "execution_count": null,
      "outputs": [
        {
          "output_type": "stream",
          "name": "stdout",
          "text": [
            "(100666, 220)\n"
          ]
        }
      ]
    },
    {
      "cell_type": "markdown",
      "metadata": {
        "id": "8A4Eoxgop1qX"
      },
      "source": [
        "#Subject Selection"
      ]
    },
    {
      "cell_type": "code",
      "execution_count": null,
      "metadata": {
        "id": "aUDPyqjRoDoZ"
      },
      "outputs": [],
      "source": [
        "main_dir = \"/content/drive/My Drive/public dataset/Public_dataset_2/Subject01\"\n",
        "# os.mkdir(main_dir)\n",
        "path=\"/content/\"\n",
        "subject='Subject_01'\n",
        "encoder='lstm'"
      ]
    },
    {
      "cell_type": "code",
      "execution_count": null,
      "metadata": {
        "id": "8iMx41lxp4Jp"
      },
      "outputs": [],
      "source": [
        "# train_data=np.concatenate((id02_data,id03_data,id04_data,id05_data,id07_data,id08_data,id10_data,id12_data,id13_data,\n",
        "#                            id14_data,id15_data,id16_data,id17_data,id18_data,id19_data,id22_data,id23_data,id24_data,id25_data),axis=0)\n",
        "\n",
        "train_data=np.concatenate((id02_data,id03_data,id04_data,id05_data,id07_data),axis=0)\n",
        "\n",
        "test_data=id01_data\n"
      ]
    },
    {
      "cell_type": "code",
      "source": [
        "print(train_data.shape)"
      ],
      "metadata": {
        "id": "twqz5dZbYBj9",
        "colab": {
          "base_uri": "https://localhost:8080/"
        },
        "outputId": "0848ec16-6e83-4318-debc-20cc882e1ac2"
      },
      "execution_count": null,
      "outputs": [
        {
          "output_type": "stream",
          "name": "stdout",
          "text": [
            "(474002, 220)\n"
          ]
        }
      ]
    },
    {
      "cell_type": "code",
      "source": [
        "train_dataset_kinematics=train_data[:,154:220]\n",
        "print(train_dataset_kinematics.shape)"
      ],
      "metadata": {
        "id": "nb-Obe81c4nd",
        "colab": {
          "base_uri": "https://localhost:8080/"
        },
        "outputId": "26789d69-ac8e-46b4-c80c-ebc3a6cf7aec"
      },
      "execution_count": null,
      "outputs": [
        {
          "output_type": "stream",
          "name": "stdout",
          "text": [
            "(474002, 66)\n"
          ]
        }
      ]
    },
    {
      "cell_type": "markdown",
      "metadata": {
        "id": "Qj2C3WmxqC4r"
      },
      "source": [
        "# Data processing and preparation\n",
        "![image.png](data:image/png;base64,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)"
      ]
    },
    {
      "cell_type": "code",
      "execution_count": null,
      "metadata": {
        "id": "MGYu4d7pqFe3",
        "colab": {
          "base_uri": "https://localhost:8080/"
        },
        "outputId": "febd66df-5cf4-49fc-e860-81659f7d33a9"
      },
      "outputs": [
        {
          "output_type": "stream",
          "name": "stdout",
          "text": [
            "(474002, 102)\n",
            "(474002, 50)\n",
            "(474002, 2)\n",
            "(474002, 6)\n"
          ]
        },
        {
          "output_type": "execute_result",
          "data": {
            "text/plain": [
              "0"
            ]
          },
          "metadata": {},
          "execution_count": 11
        }
      ],
      "source": [
        "train_dataset_IMU=np.concatenate((train_data[:,0:12],train_data[:,12:102]),axis=1)\n",
        "train_dataset_insoles=train_data[:,102:152]\n",
        "train_dataset_eyetracker=train_data[:,152:154]\n",
        "train_dataset_kinematics=train_data[:,154:220]\n",
        "\n",
        "train_dataset_target=np.concatenate((train_dataset_kinematics[:,44:45],train_dataset_kinematics[:,47:48],train_dataset_kinematics[:,50:51],train_dataset_kinematics[:,56:57],\n",
        "                                     train_dataset_kinematics[:,59:60],train_dataset_kinematics[:,62:63]),axis=1)\n",
        "\n",
        "\n",
        "test_dataset_IMU=np.concatenate((test_data[:,0:12],test_data[:,12:102]),axis=1)\n",
        "test_dataset_insoles=test_data[:,102:152]\n",
        "test_dataset_eyetracker=test_data[:,152:154]\n",
        "test_dataset_kinematics=test_data[:,154:220]\n",
        "\n",
        "\n",
        "test_dataset_target=np.concatenate((test_dataset_kinematics[:,44:45],test_dataset_kinematics[:,47:48],test_dataset_kinematics[:,50:51],test_dataset_kinematics[:,56:57],\n",
        "                                     test_dataset_kinematics[:,59:60],test_dataset_kinematics[:,62:63]),axis=1)\n",
        "\n",
        "\n",
        "print(train_dataset_IMU.shape)\n",
        "print(train_dataset_insoles.shape)\n",
        "print(train_dataset_eyetracker.shape)\n",
        "print(train_dataset_target.shape)\n",
        "\n",
        "\n",
        "gc.collect()\n",
        "gc.collect()\n",
        "gc.collect()\n"
      ]
    },
    {
      "cell_type": "code",
      "source": [
        "plt.plot(train_dataset_target[0:200,5])"
      ],
      "metadata": {
        "colab": {
          "base_uri": "https://localhost:8080/",
          "height": 447
        },
        "id": "bAwApCLNqg8V",
        "outputId": "01bd84f6-eff1-48d4-95ab-b7d0f60ad41c"
      },
      "execution_count": null,
      "outputs": [
        {
          "output_type": "execute_result",
          "data": {
            "text/plain": [
              "[<matplotlib.lines.Line2D at 0x7f2937af49a0>]"
            ]
          },
          "metadata": {},
          "execution_count": 12
        },
        {
          "output_type": "display_data",
          "data": {
            "text/plain": [
              "<Figure size 640x480 with 1 Axes>"
            ],
            "image/png": "[encoded data removed]"
          },
          "metadata": {}
        }
      ]
    },
    {
      "cell_type": "code",
      "execution_count": null,
      "metadata": {
        "id": "2bkc9S0Ls7n3"
      },
      "outputs": [],
      "source": [
        "# # convert an array of values into a dataset matrix\n",
        "def create_dataset(dataset_1, window=30):\n",
        "  dataX= []\n",
        "  k=0\n",
        "  shift=6\n",
        "  for i in range(int(len(dataset_1)/shift-5)):\n",
        "    j=shift*k\n",
        "    a = dataset_1[j:j+window,:]\n",
        "    dataX.append(a)\n",
        "    k=k+1\n",
        "  return np.array(dataX)\n",
        "\n",
        "# # convert an array of values into a dataset matrix\n",
        "def create_dataset_Kinematics(dataset_1, window=30):\n",
        "  dataX= []\n",
        "  k=0\n",
        "  shift=6\n",
        "  for i in range(int(len(dataset_1)/shift-5)):\n",
        "      j=shift*k\n",
        "      a = dataset_1[j+window:j+window+shift,:]\n",
        "      dataX.append(a)\n",
        "      k=k+1\n",
        "  return np.array(dataX)"
      ]
    },
    {
      "cell_type": "code",
      "execution_count": null,
      "metadata": {
        "id": "quLo3RKSuMtS",
        "colab": {
          "base_uri": "https://localhost:8080/"
        },
        "outputId": "643fea1d-030d-417e-f660-395f70eac1c4"
      },
      "outputs": [
        {
          "output_type": "execute_result",
          "data": {
            "text/plain": [
              "0"
            ]
          },
          "metadata": {},
          "execution_count": 14
        }
      ],
      "source": [
        "window=30\n",
        "\n",
        "train_IMU=create_dataset(train_dataset_IMU)\n",
        "train_insoles=create_dataset(train_dataset_insoles)\n",
        "train_eyetracker=create_dataset(train_dataset_eyetracker)\n",
        "\n",
        "train_target_future=create_dataset_Kinematics(train_dataset_target)\n",
        "train_target_present=create_dataset(train_dataset_target)\n",
        "\n",
        "\n",
        "gc.collect()\n",
        "gc.collect()\n",
        "gc.collect()\n",
        "gc.collect()\n",
        "\n",
        "\n",
        "test_IMU=create_dataset(test_dataset_IMU)\n",
        "test_insoles=create_dataset(test_dataset_insoles)\n",
        "test_eyetracker=create_dataset(test_dataset_eyetracker)\n",
        "\n",
        "test_target_future=create_dataset_Kinematics(test_dataset_target)\n",
        "test_target_present=create_dataset(test_dataset_target)\n",
        "\n",
        "\n",
        "gc.collect()\n",
        "gc.collect()\n",
        "gc.collect()\n",
        "gc.collect()\n"
      ]
    },
    {
      "cell_type": "code",
      "execution_count": null,
      "metadata": {
        "id": "0Omp6f5XueRP",
        "colab": {
          "base_uri": "https://localhost:8080/"
        },
        "outputId": "0c0a8679-2859-4a7c-c7c6-730f82ab9f6d"
      },
      "outputs": [
        {
          "output_type": "stream",
          "name": "stdout",
          "text": [
            "(78995, 30, 102)\n",
            "(78995, 30, 50)\n",
            "(78995, 30, 2)\n",
            "(78995, 30, 6)\n",
            "(78995, 6, 6)\n"
          ]
        }
      ],
      "source": [
        "print(train_IMU.shape)\n",
        "print(train_insoles.shape)\n",
        "print(train_eyetracker.shape)\n",
        "print(train_target_present.shape)\n",
        "print(train_target_future.shape)\n",
        "\n",
        "\n",
        "# print(test_IMU.shape)\n",
        "# print(test_insoles.shape)\n",
        "# print(test_eyetracker.shape)\n",
        "# print(test_target_present.shape)\n",
        "# print(test_target_future.shape)"
      ]
    },
    {
      "cell_type": "code",
      "execution_count": null,
      "metadata": {
        "id": "X06_a5vPh4iO"
      },
      "outputs": [],
      "source": [
        "train_X_IMU, X_validation_IMU,train_X_insoles, X_validation_insoles, train_X_eyetracker, X_validation_eyetracker, train_y_5_present, Y_validation_present , train_y_5_future, Y_validation_future=train_test_split(train_IMU,train_insoles,train_eyetracker, train_target_present, train_target_future,test_size=0.20, random_state=True)"
      ]
    },
    {
      "cell_type": "code",
      "source": [
        "print()"
      ],
      "metadata": {
        "id": "X443DOn5_ask"
      },
      "execution_count": null,
      "outputs": []
    },
    {
      "cell_type": "code",
      "execution_count": null,
      "metadata": {
        "id": "xokCCiskxYZ3"
      },
      "outputs": [],
      "source": [
        "\n",
        "### Data Processing\n",
        "\n",
        "batch_size = 64\n",
        "\n",
        "## all Modality Train Features and target\n",
        "\n",
        "train_features = torch.Tensor(train_X_IMU)\n",
        "train_features_insoles = torch.Tensor(train_X_insoles)\n",
        "train_features_eyetracker= torch.Tensor(train_X_eyetracker)\n",
        "\n",
        "\n",
        "train_targets_present = torch.Tensor(train_y_5_present)\n",
        "train_targets_future= torch.Tensor(train_y_5_future)\n",
        "\n",
        "## all Modality val Features and target\n",
        "\n",
        "val_features = torch.Tensor(X_validation_IMU)\n",
        "val_features_insoles = torch.Tensor(X_validation_insoles)\n",
        "val_features_eyetracker = torch.Tensor(X_validation_eyetracker)\n",
        "\n",
        "val_targets_present = torch.Tensor(Y_validation_present)\n",
        "val_targets_future = torch.Tensor(Y_validation_future)\n",
        "\n",
        "## all Modality test Features and target\n",
        "\n",
        "test_features = torch.Tensor(test_IMU)\n",
        "test_features_insoles = torch.Tensor(test_insoles)\n",
        "test_features_eyetracker = torch.Tensor(test_eyetracker)\n",
        "\n",
        "test_targets_present = torch.Tensor(test_target_present)\n",
        "test_targets_future = torch.Tensor(test_target_future)\n",
        "\n",
        "\n",
        "\n",
        "\n",
        "train_features_acc_8=torch.cat((train_features[:,:,0:3],train_features[:,:,6:9],train_features[:,:,12:15],train_features[:,:,18:21],train_features[:,:,24:27]\\\n",
        "                             ,train_features[:,:,30:33],train_features[:,:,36:39],train_features[:,:,42:45],train_features[:,:,48:51],train_features[:,:,54:57]\n",
        "                             ,train_features[:,:,60:63],train_features[:,:,66:69],train_features[:,:,72:75],train_features[:,:,78:81],train_features[:,:,84:87]\n",
        "                             ,train_features[:,:,90:93],train_features[:,:,96:99]),axis=-1)\n",
        "\n",
        "test_features_acc_8=torch.cat((test_features[:,:,0:3],test_features[:,:,6:9],test_features[:,:,12:15],test_features[:,:,18:21],test_features[:,:,24:27]\\\n",
        "                             ,test_features[:,:,30:33],test_features[:,:,36:39],test_features[:,:,42:45],test_features[:,:,48:51],test_features[:,:,54:57]\n",
        "                             ,test_features[:,:,60:63],test_features[:,:,66:69],test_features[:,:,72:75],test_features[:,:,78:81],test_features[:,:,84:87]\n",
        "                             ,test_features[:,:,90:93],test_features[:,:,96:99]),axis=-1)\n",
        "\n",
        "val_features_acc_8=torch.cat((val_features[:,:,0:3],val_features[:,:,6:9],val_features[:,:,12:15],val_features[:,:,18:21],val_features[:,:,24:27]\\\n",
        "                             ,val_features[:,:,30:33],val_features[:,:,36:39],val_features[:,:,42:45],val_features[:,:,48:51],val_features[:,:,54:57]\n",
        "                             ,val_features[:,:,60:63],val_features[:,:,66:69],val_features[:,:,72:75],val_features[:,:,78:81],val_features[:,:,84:87]\n",
        "                             ,val_features[:,:,90:93],val_features[:,:,96:99]),axis=-1)\n",
        "\n",
        "train_features_gyr_8=torch.cat((train_features[:,:,3:6],train_features[:,:,9:12],train_features[:,:,15:18],train_features[:,:,21:24],train_features[:,:,27:30]\\\n",
        "                             ,train_features[:,:,33:36],train_features[:,:,39:42],train_features[:,:,45:48],train_features[:,:,51:54],train_features[:,:,57:60]\n",
        "                             ,train_features[:,:,63:66],train_features[:,:,69:72],train_features[:,:,75:78],train_features[:,:,81:84],train_features[:,:,87:90]\n",
        "                             ,train_features[:,:,93:96],train_features[:,:,99:102]),axis=-1)\n",
        "\n",
        "\n",
        "test_features_gyr_8=torch.cat((test_features[:,:,3:6],test_features[:,:,9:12],test_features[:,:,15:18],test_features[:,:,21:24],test_features[:,:,27:30]\\\n",
        "                             ,test_features[:,:,33:36],test_features[:,:,39:42],test_features[:,:,45:48],test_features[:,:,51:54],test_features[:,:,57:60]\n",
        "                             ,test_features[:,:,63:66],test_features[:,:,69:72],test_features[:,:,75:78],test_features[:,:,81:84],test_features[:,:,87:90]\n",
        "                             ,test_features[:,:,93:96],test_features[:,:,99:102]),axis=-1)\n",
        "\n",
        "val_features_gyr_8=torch.cat((val_features[:,:,3:6],val_features[:,:,9:12],val_features[:,:,15:18],val_features[:,:,21:24],val_features[:,:,27:30]\\\n",
        "                             ,val_features[:,:,33:36],val_features[:,:,39:42],val_features[:,:,45:48],val_features[:,:,51:54],val_features[:,:,57:60]\n",
        "                             ,val_features[:,:,63:66],val_features[:,:,69:72],val_features[:,:,75:78],val_features[:,:,81:84],val_features[:,:,87:90]\n",
        "                             ,val_features[:,:,93:96],val_features[:,:,99:102]),axis=-1)\n",
        "\n",
        "\n",
        "\n",
        "train = TensorDataset(train_features, train_features_acc_8,train_features_gyr_8,train_features_insoles,train_features_eyetracker, train_targets_present, train_targets_future)\n",
        "val = TensorDataset(val_features, val_features_acc_8, val_features_gyr_8, val_features_insoles, val_features_eyetracker,val_targets_present, val_targets_future)\n",
        "test = TensorDataset(test_features, test_features_acc_8, test_features_gyr_8, test_features_insoles, test_features_eyetracker, test_targets_present, test_targets_future)\n",
        "\n",
        "train_loader = DataLoader(train, batch_size=batch_size, shuffle=False, drop_last=True)\n",
        "val_loader = DataLoader(val, batch_size=batch_size, shuffle=False, drop_last=True)\n",
        "test_loader = DataLoader(test, batch_size=batch_size, shuffle=False, drop_last=True)\n"
      ]
    },
    {
      "cell_type": "code",
      "execution_count": null,
      "metadata": {
        "id": "BfmjjDCuoNUj",
        "colab": {
          "base_uri": "https://localhost:8080/"
        },
        "outputId": "355d29d1-e4b8-425a-9363-6747d33d276a"
      },
      "outputs": [
        {
          "output_type": "execute_result",
          "data": {
            "text/plain": [
              "0"
            ]
          },
          "metadata": {},
          "execution_count": 125
        }
      ],
      "source": [
        "gc.collect()\n",
        "gc.collect()\n",
        "gc.collect()\n",
        "gc.collect()\n",
        "gc.collect()\n",
        "gc.collect()"
      ]
    },
    {
      "cell_type": "markdown",
      "metadata": {
        "id": "Jl71qLP9hK54"
      },
      "source": [
        "# Important Function"
      ]
    },
    {
      "cell_type": "code",
      "execution_count": null,
      "metadata": {
        "id": "eYfzxjnmhNj3"
      },
      "outputs": [],
      "source": [
        "import scipy.stats as stats\n",
        "\n",
        "def RMSE_prediction(yhat_4,test_y):\n",
        "\n",
        "  s1=yhat_4.shape[0]*yhat_4.shape[1]\n",
        "\n",
        "  test_o=test_y.reshape((s1,6))\n",
        "  yhat=yhat_4.reshape((s1,6))\n",
        "\n",
        "\n",
        "  y_1_no=yhat[:,0]\n",
        "  y_2_no=yhat[:,1]\n",
        "  y_3_no=yhat[:,2]\n",
        "  y_4_no=yhat[:,3]\n",
        "  y_5_no=yhat[:,4]\n",
        "  y_6_no=yhat[:,5]\n",
        "\n",
        "\n",
        "  y_1=y_1_no\n",
        "  y_2=y_2_no\n",
        "  y_3=y_3_no\n",
        "  y_4=y_4_no\n",
        "  y_5=y_5_no\n",
        "  y_6=y_6_no\n",
        "\n",
        "\n",
        "  y_test_1=test_o[:,0]\n",
        "  y_test_2=test_o[:,1]\n",
        "  y_test_3=test_o[:,2]\n",
        "  y_test_4=test_o[:,3]\n",
        "  y_test_5=test_o[:,4]\n",
        "  y_test_6=test_o[:,5]\n",
        "\n",
        "\n",
        "  ###calculate RMSE\n",
        "\n",
        "  rmse_1 =np.sqrt(mean_squared_error(y_test_1,y_1))\n",
        "  rmse_2 =np.sqrt(mean_squared_error(y_test_2,y_2))\n",
        "  rmse_3 =np.sqrt(mean_squared_error(y_test_3,y_3))\n",
        "  rmse_4 =np.sqrt(mean_squared_error(y_test_4,y_4))\n",
        "  rmse_5 =np.sqrt(mean_squared_error(y_test_5,y_5))\n",
        "  rmse_6 =np.sqrt(mean_squared_error(y_test_6,y_6))\n",
        "\n",
        "\n",
        "  print(rmse_1)\n",
        "  print(rmse_2)\n",
        "  print(rmse_3)\n",
        "  print(rmse_4)\n",
        "  print(rmse_5)\n",
        "  print(rmse_6)\n",
        "\n",
        "\n",
        "  p_1=np.corrcoef(y_1, y_test_1)[0, 1]\n",
        "  p_2=np.corrcoef(y_2, y_test_2)[0, 1]\n",
        "  p_3=np.corrcoef(y_3, y_test_3)[0, 1]\n",
        "  p_4=np.corrcoef(y_4, y_test_4)[0, 1]\n",
        "  p_5=np.corrcoef(y_5, y_test_5)[0, 1]\n",
        "  p_6=np.corrcoef(y_6, y_test_6)[0, 1]\n",
        "\n",
        "\n",
        "\n",
        "  print(\"\\n\")\n",
        "  print(p_1)\n",
        "  print(p_2)\n",
        "  print(p_3)\n",
        "  print(p_4)\n",
        "  print(p_5)\n",
        "  print(p_6)\n",
        "\n",
        "\n",
        "\n",
        "              ### Correlation ###\n",
        "  p=np.array([(p_1+p_4)/2,(p_2+p_5)/2,(p_3+p_6)/2])\n",
        "\n",
        "\n",
        "      #### Mean and standard deviation ####\n",
        "\n",
        "  rmse=np.array([(rmse_1+rmse_4)/2,(rmse_2+rmse_5)/2,(rmse_3+rmse_6)/2])\n",
        "\n",
        "      #### Mean and standard deviation ####\n",
        "  m=statistics.mean(rmse)\n",
        "  SD=statistics.stdev(rmse)\n",
        "  print('Mean: %.3f' % m,'+/- %.3f' %SD)\n",
        "\n",
        "  m_c=statistics.mean(p)\n",
        "  SD_c=statistics.stdev(p)\n",
        "  print('Mean: %.3f' % m_c,'+/- %.3f' %SD_c)\n",
        "\n",
        "\n",
        "\n",
        "  return rmse, p\n"
      ]
    },
    {
      "cell_type": "code",
      "execution_count": null,
      "metadata": {
        "id": "2HqWemuj8qNm"
      },
      "outputs": [],
      "source": [
        "# Define custom RMSE loss function\n",
        "class RMSELoss(torch.nn.Module):\n",
        "    def __init__(self):\n",
        "        super(RMSELoss, self).__init__()\n",
        "\n",
        "    def forward(self, pred, target):\n",
        "        mse_loss = torch.nn.MSELoss()(pred, target)\n",
        "        rmse_loss = torch.sqrt(mse_loss)\n",
        "        return rmse_loss"
      ]
    },
    {
      "cell_type": "code",
      "execution_count": null,
      "metadata": {
        "id": "bXk4MvglhQy1"
      },
      "outputs": [],
      "source": [
        "# torch.cuda.is_available() checks and returns a Boolean True if a GPU is available, else it'll return False\n",
        "is_cuda = torch.cuda.is_available()\n",
        "\n",
        "# If we have a GPU available, we'll set our device to GPU. We'll use this device variable later in our code.\n",
        "if is_cuda:\n",
        "    device = torch.device(\"cuda\")\n",
        "else:\n",
        "    device = torch.device(\"cpu\")"
      ]
    },
    {
      "cell_type": "code",
      "execution_count": null,
      "metadata": {
        "id": "GwLfKzwAu0kj"
      },
      "outputs": [],
      "source": [
        "import torch.nn as nn\n",
        "import torch\n",
        "\n",
        "class PearsonCorrCoefLoss(nn.Module):\n",
        "    def __init__(self):\n",
        "        super(PearsonCorrCoefLoss, self).__init__()\n",
        "\n",
        "    def forward(self, y_pred, y_true):\n",
        "        x = y_pred - torch.mean(y_pred)\n",
        "        y = y_true - torch.mean(y_true)\n",
        "        loss = torch.sum(x * y) / (torch.sqrt(torch.sum(x ** 2)) * torch.sqrt(torch.sum(y ** 2)))\n",
        "        return 1- loss\n"
      ]
    },
    {
      "cell_type": "markdown",
      "metadata": {
        "id": "DOb4ZMy9mfku"
      },
      "source": [
        "# Model Training-- 17 IMUs+ Insoles"
      ]
    },
    {
      "cell_type": "markdown",
      "metadata": {
        "id": "m58C4hoLmw__"
      },
      "source": [
        "## Training Function"
      ]
    },
    {
      "cell_type": "code",
      "execution_count": null,
      "metadata": {
        "id": "2EsrBvKyf6mH"
      },
      "outputs": [],
      "source": [
        "def train_mm_m(train_loader, learn_rate, EPOCHS, model,filename):\n",
        "\n",
        "    if torch.cuda.is_available():\n",
        "      model.cuda()\n",
        "    # Defining loss function and optimizer\n",
        "    # criterion =nn.MSELoss()\n",
        "    criterion =RMSELoss()\n",
        "    # criterion =PearsonCorrCoefLoss()\n",
        "\n",
        "\n",
        "    # criterion=PearsonCorrLoss()\n",
        "    # optimizer = torch.optim.Adam(model.parameters(), lr=learn_rate)\n",
        "\n",
        "    optimizer = torch.optim.Adam(model.parameters())\n",
        "\n",
        "\n",
        "    running_loss=0\n",
        "    # Train the model\n",
        "    start_time = time.time()\n",
        "\n",
        "    # Train the model with early stopping\n",
        "    best_val_loss = float('inf')\n",
        "    patience = 10\n",
        "\n",
        "\n",
        "    for epoch in range(EPOCHS):\n",
        "        epoch_start_time = time.time()\n",
        "        model.train()\n",
        "        for i, (data, data_acc, data_gyr, data_insoles, data_eyetracker, target_present, target_future) in enumerate(train_loader):\n",
        "            optimizer.zero_grad()\n",
        "            output= model(data_acc.to(device).float(),data_gyr.to(device).float(),data_insoles.to(device).float())\n",
        "\n",
        "            loss = criterion(output, target_future.to(device).float())\n",
        "            loss.backward()\n",
        "            optimizer.step()\n",
        "\n",
        "            running_loss += loss.item()\n",
        "\n",
        "        train_loss=running_loss/len(train_loader)\n",
        "\n",
        "       # Validate\n",
        "        model.eval()\n",
        "        val_loss = 0\n",
        "        with torch.no_grad():\n",
        "            for data, data_acc, data_gyr, data_insoles, data_eyetracker, target_present, target_future in val_loader:\n",
        "                output= model(data_acc.to(device).float(),data_gyr.to(device).float(),data_insoles.to(device).float())\n",
        "                val_loss += criterion(output, target_future.to(device).float())\n",
        "\n",
        "        val_loss /= len(val_loader)\n",
        "\n",
        "        epoch_end_time = time.time()\n",
        "        epoch_training_time = epoch_end_time - epoch_start_time\n",
        "\n",
        "        torch.set_printoptions(precision=4)\n",
        "\n",
        "        print(f\"Epoch: {epoch+1}, time: {epoch_training_time:.4f}, Training Loss: {train_loss:.4f},  Validation loss: {val_loss:.4f}\")\n",
        "\n",
        "        running_loss=0\n",
        "\n",
        "        epoch_end_time = time.time()\n",
        "\n",
        "                # Check if the validation loss has improved\n",
        "        if val_loss < best_val_loss:\n",
        "            best_val_loss = val_loss\n",
        "            torch.save(model.state_dict(), filename)\n",
        "            patience_counter = 0\n",
        "        else:\n",
        "            patience_counter += 1\n",
        "\n",
        "        # Early stopping if the validation loss hasn't improved for `patience` epochs\n",
        "        if patience_counter >= patience:\n",
        "            print(f\"Stopping early after {epoch+1} epochs\")\n",
        "            break\n",
        "\n",
        "\n",
        "\n",
        "    end_time = time.time()\n",
        "\n",
        "    training_time = end_time - start_time\n",
        "    print(f\"Training time: {training_time} seconds\")\n",
        "\n",
        "\n",
        "    # # Save the trained model\n",
        "    # torch.save(model.state_dict(), \"model.pth\")\n",
        "\n",
        "    return model"
      ]
    },
    {
      "cell_type": "markdown",
      "metadata": {
        "id": "GzXwU4E6qaWb"
      },
      "source": [
        "## Attention Without gating+ Bi-LSTM + Bi-GRU --Encoder+decoder"
      ]
    },
    {
      "cell_type": "code",
      "source": [
        "class Encoder_lstm(nn.Module):\n",
        "    def __init__(self, input_dim, dropout):\n",
        "        super(Encoder_lstm, self).__init__()\n",
        "        self.lstm_1 = nn.LSTM(input_dim, 128, bidirectional=True, batch_first=True, dropout=0.0)\n",
        "        self.lstm_2 = nn.LSTM(256, 64, bidirectional=True, batch_first=True, dropout=0.0)\n",
        "        self.dropout=nn.Dropout(dropout)\n",
        "\n",
        "    def forward(self, x):\n",
        "        out_1, _ = self.lstm_1(x)\n",
        "        out_1=self.dropout(out_1)\n",
        "        out_2, (h_n, c_n) = self.lstm_2(out_1)\n",
        "        out_2=self.dropout(out_2)\n",
        "\n",
        "        return out_2, (h_n, c_n)"
      ],
      "metadata": {
        "id": "4eGRsNiHqaWb"
      },
      "execution_count": null,
      "outputs": []
    },
    {
      "cell_type": "code",
      "source": [
        "class Encoder_gru(nn.Module):\n",
        "    def __init__(self, input_dim, dropout):\n",
        "        super(Encoder_gru, self).__init__()\n",
        "        self.lstm_1 = nn.GRU(input_dim, 128, bidirectional=True, batch_first=True, dropout=0.0)\n",
        "        self.lstm_2 = nn.GRU(256, 64, bidirectional=True, batch_first=True, dropout=0.0)\n",
        "        self.dropout=nn.Dropout(dropout)\n",
        "\n",
        "\n",
        "    def forward(self, x):\n",
        "        out_1, _ = self.lstm_1(x)\n",
        "        out_1=self.dropout(out_1)\n",
        "        out_2, h_n = self.lstm_2(out_1)\n",
        "        out_2=self.dropout(out_2)\n",
        "\n",
        "        return out_2, h_n"
      ],
      "metadata": {
        "id": "JVfwZiIfqaWc"
      },
      "execution_count": null,
      "outputs": []
    },
    {
      "cell_type": "code",
      "source": [
        "class LSTMDecoder(nn.Module):\n",
        "    def __init__(self, input_size, hidden_size, output_size, num_layers, dropout):\n",
        "        super(LSTMDecoder, self).__init__()\n",
        "        self.hidden_size = hidden_size\n",
        "        self.num_layers = num_layers\n",
        "        self.lstm = nn.LSTM(input_size, hidden_size, num_layers, bidirectional=True, batch_first=True)\n",
        "        self.gru = nn.GRU(input_size, hidden_size, num_layers, bidirectional=True, batch_first=True)\n",
        "        self.fc = nn.Linear(2*2*hidden_size, output_size)\n",
        "        self.dropout=nn.Dropout(dropout)\n",
        "\n",
        "        self.gating_net = nn.Sequential(nn.Linear(2*3*128+6, 2*3*128+6),nn.Sigmoid())\n",
        "\n",
        "\n",
        "    def forward(self, encoder_hidden, encoder_cell, h_gru, h_att_lstm, h_att_gru,  max_len):\n",
        "        batch_size = encoder_hidden.shape[1]\n",
        "        hidden = encoder_hidden\n",
        "        hidden_gru=h_gru\n",
        "        cell = encoder_cell\n",
        "        outputs = []\n",
        "\n",
        "        # Use the last time step of target as the initial input\n",
        "        input_1 = torch.zeros(batch_size,1,6).to(device)\n",
        "        input = torch.cat((input_1, h_att_lstm, h_att_gru), dim=-1)\n",
        "\n",
        "\n",
        "        for i in range(max_len):\n",
        "\n",
        "            gating_weight=self.gating_net(input)\n",
        "            input=input*gating_weight\n",
        "\n",
        "            # Run one time step of LSTM\n",
        "            output_1, (hidden, cell) = self.lstm(input, (hidden, cell))\n",
        "            output_2, hidden_gru = self.gru(input, hidden_gru)\n",
        "\n",
        "            output=torch.cat((output_1,output_2),dim=-1)\n",
        "\n",
        "            output=self.dropout(output)\n",
        "\n",
        "            # Use the output for prediction\n",
        "            output = self.fc(output.squeeze(1))\n",
        "            outputs.append(output.unsqueeze(1))\n",
        "\n",
        "            # Use the predicted output as the next input\n",
        "            input = torch.cat(( output.unsqueeze(1), input[:,:,6:774]), dim=-1)\n",
        "\n",
        "\n",
        "\n",
        "        # Concatenate all the outputs along the time dimension\n",
        "        outputs = torch.cat(outputs, dim=1)\n",
        "\n",
        "        return outputs"
      ],
      "metadata": {
        "id": "AEZXg4ixqaWc"
      },
      "execution_count": null,
      "outputs": []
    },
    {
      "cell_type": "code",
      "source": [
        "class TemporalAttention(nn.Module):\n",
        "    def __init__(self, hidden_size):\n",
        "        super(TemporalAttention, self).__init__()\n",
        "\n",
        "        self.W = nn.Linear(hidden_size, hidden_size)\n",
        "        self.V = nn.Linear(hidden_size, 1)\n",
        "\n",
        "    def forward(self, x):\n",
        "        # x: (batch_size, sequence_length, hidden_size)\n",
        "\n",
        "        # Calculate attention weights.\n",
        "        attn = self.V(torch.tanh(self.W(x)))\n",
        "        attn = attn.squeeze(-1)\n",
        "        attn = torch.softmax(attn, dim=1)\n",
        "\n",
        "        # Calculate weighted average of hidden states.\n",
        "        context = attn.unsqueeze(-1) * x\n",
        "        context = context.sum(dim=1)\n",
        "\n",
        "        return context"
      ],
      "metadata": {
        "id": "Y4Q74jggqaWc"
      },
      "execution_count": null,
      "outputs": []
    },
    {
      "cell_type": "code",
      "execution_count": null,
      "metadata": {
        "id": "7swUMpmTqaWc"
      },
      "outputs": [],
      "source": [
        "class MM_ED_Bi_LSTM_GRU_WF(nn.Module):\n",
        "    def __init__(self, input_acc, input_gyr,input_insoles, drop_prob=0.05):\n",
        "        super(MM_ED_Bi_LSTM_GRU_WF, self).__init__()\n",
        "\n",
        "        self.encoder_acc_lstm=Encoder_lstm(input_acc, drop_prob)\n",
        "        self.encoder_gyr_lstm=Encoder_lstm(input_gyr, drop_prob)\n",
        "        self.encoder_insoles_lstm=Encoder_lstm(input_insoles, drop_prob)\n",
        "\n",
        "        self.encoder_acc_gru=Encoder_gru(input_acc, drop_prob)\n",
        "        self.encoder_gyr_gru=Encoder_gru(input_gyr, drop_prob)\n",
        "        self.encoder_insoles_gru=Encoder_gru(input_insoles, drop_prob)\n",
        "\n",
        "        self.BN_acc= nn.BatchNorm1d(input_acc, affine=False)\n",
        "        self.BN_gyr= nn.BatchNorm1d(input_gyr, affine=False)\n",
        "        self.BN_insoles= nn.BatchNorm1d(input_insoles, affine=False)\n",
        "\n",
        "        self.temporal_attn_acc = TemporalAttention(128)\n",
        "        self.temporal_attn_gyr = TemporalAttention(128)\n",
        "        self.temporal_attn_insoles = TemporalAttention(128)\n",
        "\n",
        "\n",
        "        self.decoder=LSTMDecoder(2*3*128+6, 3*64, 6, 1, 0.05)\n",
        "\n",
        "    def forward(self, x_acc, x_gyr, x_insoles):\n",
        "\n",
        "        x_acc_1=x_acc.view(x_acc.size(0)*x_acc.size(1),x_acc.size(-1))\n",
        "        x_gyr_1=x_gyr.view(x_gyr.size(0)*x_gyr.size(1),x_gyr.size(-1))\n",
        "        x_insoles_1=x_insoles.view(x_insoles.size(0)*x_insoles.size(1),x_insoles.size(-1))\n",
        "\n",
        "        x_acc_1=self.BN_acc(x_acc_1)\n",
        "        x_gyr_1=self.BN_gyr(x_gyr_1)\n",
        "        x_insoles_1=self.BN_insoles(x_insoles_1)\n",
        "\n",
        "        x_acc_2=x_acc_1.view(-1, window, x_acc_1.size(-1))\n",
        "        x_gyr_2=x_gyr_1.view(-1, window, x_gyr_1.size(-1))\n",
        "        x_insoles_2=x_insoles_1.view(-1, window, x_insoles_1.size(-1))\n",
        "\n",
        "        x_acc_lstm,(h_acc_lstm, c_acc_lstm)=self.encoder_acc_lstm(x_acc_2)\n",
        "        x_gyr_lstm,(h_gyr_lstm, c_gyr_lstm)=self.encoder_gyr_lstm(x_gyr_2)\n",
        "        x_insoles_lstm,(h_insoles_lstm, c_insoles_lstm)=self.encoder_insoles_lstm(x_insoles_2)\n",
        "\n",
        "\n",
        "        x_acc_gru,h_acc_gru=self.encoder_acc_gru(x_acc_2)\n",
        "        x_gyr_gru,h_gyr_gru=self.encoder_gyr_gru(x_gyr_2)\n",
        "        x_insoles_gru,h_insoles_gru=self.encoder_insoles_gru(x_insoles_2)\n",
        "\n",
        "\n",
        "        h_lstm=torch.cat((h_acc_lstm,h_gyr_lstm,h_insoles_lstm),dim=-1)\n",
        "        c_lstm=torch.cat((c_acc_lstm,c_gyr_lstm,c_insoles_lstm),dim=-1)\n",
        "\n",
        "        h_gru=torch.cat((h_acc_gru,h_gyr_gru,h_insoles_gru),dim=-1)\n",
        "\n",
        "\n",
        "        h_acc_att_lstm=self.temporal_attn_acc(x_acc_lstm)\n",
        "        h_gyr_att_lstm=self.temporal_attn_gyr(x_gyr_lstm)\n",
        "        h_insoles_att_lstm=self.temporal_attn_insoles(x_insoles_lstm)\n",
        "\n",
        "\n",
        "        h_acc_att_gru=self.temporal_attn_acc(x_acc_gru)\n",
        "        h_gyr_att_gru=self.temporal_attn_gyr(x_gyr_gru)\n",
        "        h_insoles_att_gru=self.temporal_attn_insoles(x_insoles_gru)\n",
        "\n",
        "\n",
        "        h_att_lstm=torch.cat((h_acc_att_lstm,h_gyr_att_lstm,h_insoles_att_lstm),dim=-1)\n",
        "        h_att_gru=torch.cat((h_acc_att_gru,h_gyr_att_gru,h_insoles_att_gru),dim=-1)\n",
        "\n",
        "        #Do it separately\n",
        "\n",
        "        h_att_lstm=h_att_lstm.unsqueeze(0)\n",
        "        h_att_lstm=h_att_lstm.transpose(1,0)\n",
        "\n",
        "        h_att_gru=h_att_gru.unsqueeze(0)\n",
        "        h_att_gru=h_att_gru.transpose(1,0)\n",
        "\n",
        "\n",
        "\n",
        "        out=self.decoder(h_lstm, c_lstm, h_gru, h_att_lstm, h_att_gru, 6)\n",
        "\n",
        "\n",
        "        return out"
      ]
    },
    {
      "cell_type": "code",
      "execution_count": null,
      "metadata": {
        "colab": {
          "base_uri": "https://localhost:8080/"
        },
        "outputId": "70860c68-adcc-44ce-ccd5-3570c5de0908",
        "id": "58Sr5w7nqaWc"
      },
      "outputs": [
        {
          "output_type": "stream",
          "name": "stdout",
          "text": [
            "Epoch: 1, time: 44.9846, Training Loss: 6.2151,  Validation loss: 3.6076\n",
            "Epoch: 2, time: 45.6964, Training Loss: 3.1618,  Validation loss: 2.8510\n",
            "Epoch: 3, time: 45.4461, Training Loss: 2.6096,  Validation loss: 2.5716\n",
            "Epoch: 4, time: 45.7466, Training Loss: 2.3186,  Validation loss: 2.4054\n",
            "Training time: 182.05015683174133 seconds\n"
          ]
        }
      ],
      "source": [
        "lr = 0.001\n",
        "model = MM_ED_Bi_LSTM_GRU_WF(51,51,50)\n",
        "\n",
        "mm_ed_bi_lstm_gru_WF = train_mm_m(train_loader, lr,12,model,path+subject+'_mm_ed_bi_lstm_gru_WF_IMU17_insoles.pth')"
      ]
    },
    {
      "cell_type": "code",
      "execution_count": null,
      "metadata": {
        "colab": {
          "base_uri": "https://localhost:8080/"
        },
        "outputId": "fed18365-bf08-4d12-98b5-d00ac5a33ea0",
        "id": "2eT6OfivqaWc"
      },
      "outputs": [
        {
          "output_type": "execute_result",
          "data": {
            "text/plain": [
              "0"
            ]
          },
          "metadata": {},
          "execution_count": 137
        }
      ],
      "source": [
        "gc.collect()\n",
        "gc.collect()\n",
        "gc.collect()"
      ]
    },
    {
      "cell_type": "code",
      "execution_count": null,
      "metadata": {
        "colab": {
          "base_uri": "https://localhost:8080/"
        },
        "outputId": "3d6b3429-aa04-43d3-b45c-d3607a0b4d21",
        "id": "S0gLfl01qaWd"
      },
      "outputs": [
        {
          "output_type": "stream",
          "name": "stdout",
          "text": [
            "(16768, 6, 6)\n",
            "8.11527\n",
            "8.645963\n",
            "12.406886\n",
            "7.660678\n",
            "11.632217\n",
            "7.260344\n",
            "\n",
            "\n",
            "0.9555411614078532\n",
            "0.9539125147783376\n",
            "0.7675620999729704\n",
            "0.9351552744341263\n",
            "0.9012236751464785\n",
            "0.8395098271000095\n",
            "Mean: 9.287 +/- 1.221\n",
            "Mean: 0.892 +/- 0.077\n"
          ]
        }
      ],
      "source": [
        "mm_ed_bi_lstm_gru_WF= MM_ED_Bi_LSTM_GRU_WF(51,51,50)\n",
        "mm_ed_bi_lstm_gru_WF.load_state_dict(torch.load(path+subject+'_mm_ed_bi_lstm_gru_WF_IMU17_insoles.pth'))\n",
        "mm_ed_bi_lstm_gru_WF.to(device)\n",
        "\n",
        "mm_ed_bi_lstm_gru_WF.eval()\n",
        "\n",
        "# iterate through batches of test data\n",
        "with torch.no_grad():\n",
        "    for i, (data, data_acc, data_gyr, data_insoles,data_eyetracker, target_present, target_future) in enumerate(test_loader):\n",
        "        output = mm_ed_bi_lstm_gru_WF(data_acc.to(device).float(),data_gyr.to(device).float(),data_insoles.to(device).float())\n",
        "        if i==0:\n",
        "          yhat_5=output\n",
        "          test_target=target_future\n",
        "\n",
        "        else:\n",
        "\n",
        "          yhat_5=torch.cat((yhat_5,output),dim=0)\n",
        "          test_target=torch.cat((test_target,target_future),dim=0)\n",
        "\n",
        "        # clear memory\n",
        "        del data, target_future,output\n",
        "        torch.cuda.empty_cache()\n",
        "\n",
        "\n",
        "\n",
        "yhat_4 = yhat_5.detach().cpu().numpy()\n",
        "test_target = test_target.detach().cpu().numpy()\n",
        "print(yhat_4.shape)\n",
        "\n",
        "rmse, p=RMSE_prediction(yhat_4,test_target)\n",
        "\n",
        "ablation_1=np.hstack([rmse,p])"
      ]
    },
    {
      "cell_type": "code",
      "source": [
        "plt.plot(yhat_4[5:25,:,5].reshape(20*6,1))\n",
        "plt.plot(test_target[5:25,:,5].reshape(20*6,1))"
      ],
      "metadata": {
        "colab": {
          "base_uri": "https://localhost:8080/",
          "height": 447
        },
        "id": "URoF0CcXux8J",
        "outputId": "760f4584-dd03-4ac8-aa42-294203640ccb"
      },
      "execution_count": null,
      "outputs": [
        {
          "output_type": "execute_result",
          "data": {
            "text/plain": [
              "[<matplotlib.lines.Line2D at 0x7e4e824100a0>]"
            ]
          },
          "metadata": {},
          "execution_count": 145
        },
        {
          "output_type": "display_data",
          "data": {
            "text/plain": [
              "<Figure size 640x480 with 1 Axes>"
            ],
            "image/png": "[encoded data removed]"
          },
          "metadata": {}
        }
      ]
    },
    {
      "cell_type": "markdown",
      "metadata": {
        "id": "gvOAWp-kU0CB"
      },
      "source": [
        "# Model Training-- 17 IMUs"
      ]
    },
    {
      "cell_type": "markdown",
      "metadata": {
        "id": "-nTZp_A-U0CG"
      },
      "source": [
        "## Training Function"
      ]
    },
    {
      "cell_type": "code",
      "execution_count": null,
      "metadata": {
        "id": "ruUJ_6YQU0CG"
      },
      "outputs": [],
      "source": [
        "def train_mm_m(train_loader, learn_rate, EPOCHS, model,filename):\n",
        "\n",
        "    if torch.cuda.is_available():\n",
        "      model.cuda()\n",
        "    # Defining loss function and optimizer\n",
        "    # criterion =nn.MSELoss()\n",
        "    criterion =RMSELoss()\n",
        "    # criterion =PearsonCorrCoefLoss()\n",
        "\n",
        "    optimizer = torch.optim.Adam(model.parameters())\n",
        "\n",
        "\n",
        "    running_loss=0\n",
        "    # Train the model\n",
        "    start_time = time.time()\n",
        "\n",
        "    # Train the model with early stopping\n",
        "    best_val_loss = float('inf')\n",
        "    patience = 10\n",
        "\n",
        "\n",
        "    for epoch in range(EPOCHS):\n",
        "        epoch_start_time = time.time()\n",
        "        model.train()\n",
        "        for i, (data, data_acc, data_gyr, data_insoles, data_eyetracker, target_present, target_future) in enumerate(train_loader):\n",
        "            optimizer.zero_grad()\n",
        "            output= model(data_acc.to(device).float(),data_gyr.to(device).float())\n",
        "\n",
        "            loss = criterion(output, target_future.to(device).float())\n",
        "            loss.backward()\n",
        "            optimizer.step()\n",
        "\n",
        "            running_loss += loss.item()\n",
        "\n",
        "        train_loss=running_loss/len(train_loader)\n",
        "\n",
        "       # Validate\n",
        "        model.eval()\n",
        "        val_loss = 0\n",
        "        with torch.no_grad():\n",
        "            for data, data_acc, data_gyr, data_insoles, data_eyetracker, target_present, target_future in val_loader:\n",
        "                output= model(data_acc.to(device).float(),data_gyr.to(device).float())\n",
        "                val_loss += criterion(output, target_future.to(device).float())\n",
        "\n",
        "        val_loss /= len(val_loader)\n",
        "\n",
        "        epoch_end_time = time.time()\n",
        "        epoch_training_time = epoch_end_time - epoch_start_time\n",
        "\n",
        "        torch.set_printoptions(precision=4)\n",
        "\n",
        "        print(f\"Epoch: {epoch+1}, time: {epoch_training_time:.4f}, Training Loss: {train_loss:.4f},  Validation loss: {val_loss:.4f}\")\n",
        "\n",
        "        running_loss=0\n",
        "\n",
        "        epoch_end_time = time.time()\n",
        "\n",
        "                # Check if the validation loss has improved\n",
        "        if val_loss < best_val_loss:\n",
        "            best_val_loss = val_loss\n",
        "            torch.save(model.state_dict(), filename)\n",
        "            patience_counter = 0\n",
        "        else:\n",
        "            patience_counter += 1\n",
        "\n",
        "        # Early stopping if the validation loss hasn't improved for `patience` epochs\n",
        "        if patience_counter >= patience:\n",
        "            print(f\"Stopping early after {epoch+1} epochs\")\n",
        "            break\n",
        "\n",
        "\n",
        "\n",
        "    end_time = time.time()\n",
        "\n",
        "    training_time = end_time - start_time\n",
        "    print(f\"Training time: {training_time} seconds\")\n",
        "\n",
        "\n",
        "    # # Save the trained model\n",
        "    # torch.save(model.state_dict(), \"model.pth\")\n",
        "\n",
        "    return model"
      ]
    },
    {
      "cell_type": "markdown",
      "metadata": {
        "id": "Ymtgb6Ertbgf"
      },
      "source": [
        "## Attention Without gating+ Bi-LSTM + Bi-GRU --Encoder+decoder"
      ]
    },
    {
      "cell_type": "code",
      "source": [
        "class Encoder_lstm(nn.Module):\n",
        "    def __init__(self, input_dim, dropout):\n",
        "        super(Encoder_lstm, self).__init__()\n",
        "        self.lstm_1 = nn.LSTM(input_dim, 128, bidirectional=True, batch_first=True, dropout=0.0)\n",
        "        self.lstm_2 = nn.LSTM(256, 64, bidirectional=True, batch_first=True, dropout=0.0)\n",
        "        self.dropout=nn.Dropout(dropout)\n",
        "\n",
        "    def forward(self, x):\n",
        "        out_1, _ = self.lstm_1(x)\n",
        "        out_1=self.dropout(out_1)\n",
        "        out_2, (h_n, c_n) = self.lstm_2(out_1)\n",
        "        out_2=self.dropout(out_2)\n",
        "\n",
        "        return out_2, (h_n, c_n)"
      ],
      "metadata": {
        "id": "SR5etmtPtbgg"
      },
      "execution_count": null,
      "outputs": []
    },
    {
      "cell_type": "code",
      "source": [
        "class Encoder_gru(nn.Module):\n",
        "    def __init__(self, input_dim, dropout):\n",
        "        super(Encoder_gru, self).__init__()\n",
        "        self.lstm_1 = nn.GRU(input_dim, 128, bidirectional=True, batch_first=True, dropout=0.0)\n",
        "        self.lstm_2 = nn.GRU(256, 64, bidirectional=True, batch_first=True, dropout=0.0)\n",
        "        self.dropout=nn.Dropout(dropout)\n",
        "\n",
        "\n",
        "    def forward(self, x):\n",
        "        out_1, _ = self.lstm_1(x)\n",
        "        out_1=self.dropout(out_1)\n",
        "        out_2, h_n = self.lstm_2(out_1)\n",
        "        out_2=self.dropout(out_2)\n",
        "\n",
        "        return out_2, h_n"
      ],
      "metadata": {
        "id": "hvXGVKWbtbgg"
      },
      "execution_count": null,
      "outputs": []
    },
    {
      "cell_type": "code",
      "source": [
        "class LSTMDecoder(nn.Module):\n",
        "    def __init__(self, input_size, hidden_size, output_size, num_layers, dropout):\n",
        "        super(LSTMDecoder, self).__init__()\n",
        "        self.hidden_size = hidden_size\n",
        "        self.num_layers = num_layers\n",
        "        self.lstm = nn.LSTM(input_size, hidden_size, num_layers, bidirectional=True, batch_first=True)\n",
        "        self.gru = nn.GRU(input_size, hidden_size, num_layers, bidirectional=True, batch_first=True)\n",
        "        self.fc = nn.Linear(2*2*hidden_size, output_size)\n",
        "        self.dropout=nn.Dropout(dropout)\n",
        "\n",
        "        self.gating_net = nn.Sequential(nn.Linear(2*2*128+6, 2*2*128+6),nn.Sigmoid())\n",
        "\n",
        "\n",
        "    def forward(self, encoder_hidden, encoder_cell, h_gru, h_att_lstm, h_att_gru,  max_len):\n",
        "        batch_size = encoder_hidden.shape[1]\n",
        "        hidden = encoder_hidden\n",
        "        hidden_gru=h_gru\n",
        "        cell = encoder_cell\n",
        "        outputs = []\n",
        "\n",
        "        # Use the last time step of target as the initial input\n",
        "        input_1 = torch.zeros(batch_size,1,6).to(device)\n",
        "        input = torch.cat((input_1, h_att_lstm, h_att_gru), dim=-1)\n",
        "\n",
        "\n",
        "        for i in range(max_len):\n",
        "\n",
        "            gating_weight=self.gating_net(input)\n",
        "            input=input*gating_weight\n",
        "\n",
        "            # Run one time step of LSTM\n",
        "            output_1, (hidden, cell) = self.lstm(input, (hidden, cell))\n",
        "            output_2, hidden_gru = self.gru(input, hidden_gru)\n",
        "\n",
        "            output=torch.cat((output_1,output_2),dim=-1)\n",
        "\n",
        "            output=self.dropout(output)\n",
        "\n",
        "            # Use the output for prediction\n",
        "            output = self.fc(output.squeeze(1))\n",
        "            outputs.append(output.unsqueeze(1))\n",
        "\n",
        "            # Use the predicted output as the next input\n",
        "            input = torch.cat(( output.unsqueeze(1), input[:,:,6:518]), dim=-1)\n",
        "\n",
        "\n",
        "\n",
        "        # Concatenate all the outputs along the time dimension\n",
        "        outputs = torch.cat(outputs, dim=1)\n",
        "\n",
        "        return outputs"
      ],
      "metadata": {
        "id": "BnilzHfmtbgg"
      },
      "execution_count": null,
      "outputs": []
    },
    {
      "cell_type": "code",
      "source": [
        "class TemporalAttention(nn.Module):\n",
        "    def __init__(self, hidden_size):\n",
        "        super(TemporalAttention, self).__init__()\n",
        "\n",
        "        self.W = nn.Linear(hidden_size, hidden_size)\n",
        "        self.V = nn.Linear(hidden_size, 1)\n",
        "\n",
        "    def forward(self, x):\n",
        "        # x: (batch_size, sequence_length, hidden_size)\n",
        "\n",
        "        # Calculate attention weights.\n",
        "        attn = self.V(torch.tanh(self.W(x)))\n",
        "        attn = attn.squeeze(-1)\n",
        "        attn = torch.softmax(attn, dim=1)\n",
        "\n",
        "        # Calculate weighted average of hidden states.\n",
        "        context = attn.unsqueeze(-1) * x\n",
        "        context = context.sum(dim=1)\n",
        "\n",
        "        return context"
      ],
      "metadata": {
        "id": "XlekrGI9tbgg"
      },
      "execution_count": null,
      "outputs": []
    },
    {
      "cell_type": "code",
      "execution_count": null,
      "metadata": {
        "id": "H1TgIlCKtbgg"
      },
      "outputs": [],
      "source": [
        "class MM_ED_Bi_LSTM_GRU_WF(nn.Module):\n",
        "    def __init__(self, input_acc, input_gyr, drop_prob=0.05):\n",
        "        super(MM_ED_Bi_LSTM_GRU_WF, self).__init__()\n",
        "\n",
        "        self.encoder_acc_lstm=Encoder_lstm(input_acc, drop_prob)\n",
        "        self.encoder_gyr_lstm=Encoder_lstm(input_gyr, drop_prob)\n",
        "\n",
        "        self.encoder_acc_gru=Encoder_gru(input_acc, drop_prob)\n",
        "        self.encoder_gyr_gru=Encoder_gru(input_gyr, drop_prob)\n",
        "\n",
        "        self.BN_acc= nn.BatchNorm1d(input_acc, affine=False)\n",
        "        self.BN_gyr= nn.BatchNorm1d(input_gyr, affine=False)\n",
        "\n",
        "        self.temporal_attn_acc = TemporalAttention(128)\n",
        "        self.temporal_attn_gyr = TemporalAttention(128)\n",
        "\n",
        "\n",
        "        self.decoder=LSTMDecoder(2*2*128+6, 2*64, 6, 1, 0.05)\n",
        "\n",
        "    def forward(self, x_acc, x_gyr):\n",
        "\n",
        "        x_acc_1=x_acc.view(x_acc.size(0)*x_acc.size(1),x_acc.size(-1))\n",
        "        x_gyr_1=x_gyr.view(x_gyr.size(0)*x_gyr.size(1),x_gyr.size(-1))\n",
        "\n",
        "        x_acc_1=self.BN_acc(x_acc_1)\n",
        "        x_gyr_1=self.BN_gyr(x_gyr_1)\n",
        "\n",
        "        x_acc_2=x_acc_1.view(-1, window, x_acc_1.size(-1))\n",
        "        x_gyr_2=x_gyr_1.view(-1, window, x_gyr_1.size(-1))\n",
        "\n",
        "        x_acc_lstm,(h_acc_lstm, c_acc_lstm)=self.encoder_acc_lstm(x_acc_2)\n",
        "        x_gyr_lstm,(h_gyr_lstm, c_gyr_lstm)=self.encoder_gyr_lstm(x_gyr_2)\n",
        "\n",
        "\n",
        "        x_acc_gru,h_acc_gru=self.encoder_acc_gru(x_acc_2)\n",
        "        x_gyr_gru,h_gyr_gru=self.encoder_gyr_gru(x_gyr_2)\n",
        "\n",
        "\n",
        "        h_lstm=torch.cat((h_acc_lstm,h_gyr_lstm),dim=-1)\n",
        "        c_lstm=torch.cat((c_acc_lstm,c_gyr_lstm),dim=-1)\n",
        "\n",
        "        h_gru=torch.cat((h_acc_gru,h_gyr_gru),dim=-1)\n",
        "\n",
        "\n",
        "        h_acc_att_lstm=self.temporal_attn_acc(x_acc_lstm)\n",
        "        h_gyr_att_lstm=self.temporal_attn_gyr(x_gyr_lstm)\n",
        "\n",
        "\n",
        "        h_acc_att_gru=self.temporal_attn_acc(x_acc_gru)\n",
        "        h_gyr_att_gru=self.temporal_attn_gyr(x_gyr_gru)\n",
        "\n",
        "\n",
        "        h_att_lstm=torch.cat((h_acc_att_lstm,h_gyr_att_lstm),dim=-1)\n",
        "        h_att_gru=torch.cat((h_acc_att_gru,h_gyr_att_gru),dim=-1)\n",
        "\n",
        "        #Do it separately\n",
        "\n",
        "        h_att_lstm=h_att_lstm.unsqueeze(0)\n",
        "        h_att_lstm=h_att_lstm.transpose(1,0)\n",
        "\n",
        "        h_att_gru=h_att_gru.unsqueeze(0)\n",
        "        h_att_gru=h_att_gru.transpose(1,0)\n",
        "\n",
        "\n",
        "\n",
        "        out=self.decoder(h_lstm, c_lstm, h_gru, h_att_lstm, h_att_gru, 6)\n",
        "\n",
        "\n",
        "        return out"
      ]
    },
    {
      "cell_type": "code",
      "execution_count": null,
      "metadata": {
        "colab": {
          "base_uri": "https://localhost:8080/"
        },
        "outputId": "c1b35cc6-ae76-48a1-8e2e-fcf746bc7b0b",
        "id": "h0yDS_nGtbgg"
      },
      "outputs": [
        {
          "output_type": "stream",
          "name": "stdout",
          "text": [
            "Epoch: 1, time: 27.2556, Training Loss: 8.5747,  Validation loss: 4.4194\n",
            "Epoch: 2, time: 27.1492, Training Loss: 3.6665,  Validation loss: 3.2503\n",
            "Epoch: 3, time: 27.3934, Training Loss: 2.9690,  Validation loss: 2.8863\n",
            "Epoch: 4, time: 27.0657, Training Loss: 2.6184,  Validation loss: 2.6069\n",
            "Epoch: 5, time: 27.0739, Training Loss: 2.4013,  Validation loss: 2.5334\n",
            "Epoch: 6, time: 27.1974, Training Loss: 2.2506,  Validation loss: 2.4211\n",
            "Epoch: 7, time: 27.1601, Training Loss: 2.1244,  Validation loss: 2.3490\n",
            "Epoch: 8, time: 27.1086, Training Loss: 2.0299,  Validation loss: 2.2799\n",
            "Epoch: 9, time: 27.1175, Training Loss: 1.9415,  Validation loss: 2.2824\n",
            "Epoch: 10, time: 27.1112, Training Loss: 1.8817,  Validation loss: 2.1976\n",
            "Epoch: 11, time: 27.1412, Training Loss: 1.8170,  Validation loss: 2.1989\n",
            "Epoch: 12, time: 27.1595, Training Loss: 1.7717,  Validation loss: 2.2001\n",
            "Training time: 326.1627757549286 seconds\n"
          ]
        }
      ],
      "source": [
        "lr = 0.001\n",
        "model = MM_ED_Bi_LSTM_GRU_WF(51,51)\n",
        "\n",
        "mm_ed_bi_lstm_gru_WF = train_mm_m(train_loader, lr,12,model,path+subject+'_mm_ed_bi_lstm_gru_WF_IMU17.pth')"
      ]
    },
    {
      "cell_type": "code",
      "execution_count": null,
      "metadata": {
        "colab": {
          "base_uri": "https://localhost:8080/"
        },
        "outputId": "a8dc1494-51e2-4902-9528-c040f928c41d",
        "id": "SV5V-SzNtbgh"
      },
      "outputs": [
        {
          "output_type": "execute_result",
          "data": {
            "text/plain": [
              "0"
            ]
          },
          "metadata": {},
          "execution_count": 153
        }
      ],
      "source": [
        "gc.collect()\n",
        "gc.collect()\n",
        "gc.collect()"
      ]
    },
    {
      "cell_type": "code",
      "execution_count": null,
      "metadata": {
        "colab": {
          "base_uri": "https://localhost:8080/"
        },
        "outputId": "46d02c54-eace-43e2-de21-336a09c34b59",
        "id": "ANsrfL6Stbgh"
      },
      "outputs": [
        {
          "output_type": "stream",
          "name": "stdout",
          "text": [
            "(16832, 6, 6)\n",
            "6.938661\n",
            "8.504364\n",
            "12.905141\n",
            "6.4119573\n",
            "9.428121\n",
            "7.249613\n",
            "\n",
            "\n",
            "0.9603466740326171\n",
            "0.9533040610322558\n",
            "0.7087120964716578\n",
            "0.9535631573112708\n",
            "0.937460979632963\n",
            "0.8492355628150154\n",
            "Mean: 8.573 +/- 1.735\n",
            "Mean: 0.894 +/- 0.100\n"
          ]
        }
      ],
      "source": [
        "mm_ed_bi_lstm_gru_WF= MM_ED_Bi_LSTM_GRU_WF(51,51)\n",
        "mm_ed_bi_lstm_gru_WF.load_state_dict(torch.load(path+subject+'_mm_ed_bi_lstm_gru_WF_IMU17.pth'))\n",
        "mm_ed_bi_lstm_gru_WF.to(device)\n",
        "\n",
        "mm_ed_bi_lstm_gru_WF.eval()\n",
        "\n",
        "# iterate through batches of test data\n",
        "with torch.no_grad():\n",
        "    for i, (data, data_acc, data_gyr, data_hof, data_eyetracker, target_present, target_future) in enumerate(test_loader):\n",
        "        output = mm_ed_bi_lstm_gru_WF(data_acc.to(device).float(),data_gyr.to(device).float())\n",
        "        if i==0:\n",
        "          yhat_5=output\n",
        "          test_target=target_future\n",
        "\n",
        "        yhat_5=torch.cat((yhat_5,output),dim=0)\n",
        "        test_target=torch.cat((test_target,target_future),dim=0)\n",
        "\n",
        "        # clear memory\n",
        "        del data, target_future,output\n",
        "        torch.cuda.empty_cache()\n",
        "\n",
        "\n",
        "\n",
        "yhat_4 = yhat_5.detach().cpu().numpy()\n",
        "test_target = test_target.detach().cpu().numpy()\n",
        "print(yhat_4.shape)\n",
        "\n",
        "rmse, p=RMSE_prediction(yhat_4,test_target)\n",
        "\n",
        "ablation_2=np.hstack([rmse,p])"
      ]
    }
  ],
  "metadata": {
    "accelerator": "GPU",
    "colab": {
      "collapsed_sections": [
        "8A4Eoxgop1qX",
        "Jl71qLP9hK54",
        "m58C4hoLmw__",
        "-nTZp_A-U0CG"
      ],
      "machine_shape": "hm",
      "provenance": [],
      "gpuType": "T4",
      "include_colab_link": true
    },
    "gpuClass": "standard",
    "kernelspec": {
      "display_name": "Python 3",
      "name": "python3"
    },
    "language_info": {
      "name": "python"
    }
  },
  "nbformat": 4,
  "nbformat_minor": 0
}